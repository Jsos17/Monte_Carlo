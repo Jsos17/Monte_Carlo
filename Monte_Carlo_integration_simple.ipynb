{
 "cells": [
  {
   "cell_type": "markdown",
   "metadata": {},
   "source": [
    "# Piin arvon approksimointi Monte Carlo integroinnilla\n",
    "\n",
    "Ympyrän pinta-ala $ A $ on\n",
    "\n",
    "$ A = \\pi*r^{2} $,\n",
    "\n",
    "missä $ r > 0 $ on ympyrän säde. Kun $ r = 1 $ on ympyrän pinta-ala $ \\pi $.\n",
    "\n",
    "$ 1 x 1 $-neliön sisällä olevan $ \\frac{1}{4} $-ympyrän ala on siis $ \\frac{\\pi}{4} $.\n",
    "\n",
    "**Monte Carlo integrointi** laskee kuinka moni satunnaisesti $ 1x1 $-neliöön asetetuista pisteistä, kuuluu ympyrän kaaren rajaaman alueen sisäpuolelle. Kun pisteitä generoidaan tarpeeksi monta, saadaan suhteellisen hyvä approksimaatio $ \\frac{\\pi}{4} $:n arvolle."
   ]
  },
  {
   "cell_type": "code",
   "execution_count": 1,
   "metadata": {},
   "outputs": [],
   "source": [
    "import numpy as np\n",
    "from numpy.random import RandomState\n",
    "import matplotlib.pyplot as plt\n",
    "import timeit\n",
    "\n",
    "n = 1_000_000"
   ]
  },
  {
   "cell_type": "markdown",
   "metadata": {},
   "source": [
    "## NumPyn vektorisoiduilla operaatioilla"
   ]
  },
  {
   "cell_type": "code",
   "execution_count": 2,
   "metadata": {},
   "outputs": [
    {
     "name": "stdout",
     "output_type": "stream",
     "text": [
      "Approximate pi: 3.139432\n",
      "NumPy's value for pi: 3.141592653589793\n"
     ]
    },
    {
     "data": {
      "image/png": "[encoded data removed]",
      "text/plain": [
       "<Figure size 432x288 with 1 Axes>"
      ]
     },
     "metadata": {
      "needs_background": "light"
     },
     "output_type": "display_data"
    }
   ],
   "source": [
    "rng_x = RandomState(1729)\n",
    "rng_y = RandomState(88)\n",
    "\n",
    "x = rng_x.uniform(low=0, high=1, size=n)\n",
    "y = rng_y.uniform(low=0, high=1, size=n)\n",
    "sum_of_squares = x * x + y * y\n",
    "mask = sum_of_squares < 1\n",
    "\n",
    "pi_estimate = (len(sum_of_squares[mask]) / n) * 4\n",
    "print(f\"Approximate pi: {pi_estimate}\")\n",
    "print(f\"NumPy's value for pi: {np.pi}\")\n",
    "\n",
    "plt.scatter(x[mask], y[mask], s=1, c=\"red\")\n",
    "plt.axis('equal')\n",
    "plt.show()"
   ]
  },
  {
   "cell_type": "markdown",
   "metadata": {},
   "source": [
    "## For-loopin avulla"
   ]
  },
  {
   "cell_type": "code",
   "execution_count": 3,
   "metadata": {},
   "outputs": [
    {
     "name": "stdout",
     "output_type": "stream",
     "text": [
      "Approximate pi: 3.139432\n",
      "NumPy's value for pi: 3.141592653589793\n"
     ]
    }
   ],
   "source": [
    "rando = RandomState(1729)\n",
    "randu = RandomState(88)\n",
    "count = 0\n",
    "\n",
    "for i in range(n):\n",
    "    u = rando.uniform(low=0, high=1)\n",
    "    v = randu.uniform(low=0, high=1)\n",
    "    if (u * u + v * v) < 1:\n",
    "        count += 1\n",
    "\n",
    "pi_est = (count / n) * 4\n",
    "print(f\"Approximate pi: {pi_est}\")\n",
    "print(f\"NumPy's value for pi: {np.pi}\")"
   ]
  },
  {
   "cell_type": "markdown",
   "metadata": {},
   "source": [
    "## Toteutusten ajastus timeit-kirjaston avulla"
   ]
  },
  {
   "cell_type": "code",
   "execution_count": 4,
   "metadata": {},
   "outputs": [
    {
     "name": "stdout",
     "output_type": "stream",
     "text": [
      "Vectorized average time over 10 repeats: 0.035540\n",
      "For-loop average time over 10 repeats: 1.666104\n"
     ]
    }
   ],
   "source": [
    "repeats = 10\n",
    "\n",
    "# Setup statement executed once\n",
    "setup = \"\"\"\\\n",
    "import numpy as np\n",
    "from numpy.random import RandomState\n",
    "import matplotlib.pyplot as plt\n",
    "import time\n",
    "import timeit\n",
    "\n",
    "n = 1_000_000\n",
    "rng_x = RandomState(1729)\n",
    "rng_y = RandomState(88)\"\"\"\n",
    "\n",
    "# Actual statement executed for repeats times\n",
    "vectorized_stmt = \"\"\"\\\n",
    "x = rng_x.uniform(low=0, high=1, size=n)\n",
    "y = rng_y.uniform(low=0, high=1, size=n)\n",
    "sum_of_squares = x * x + y * y\n",
    "mask = sum_of_squares < 1\"\"\"\n",
    "\n",
    "vectorized_time = timeit.Timer(stmt=vectorized_stmt, setup=setup).timeit(number=repeats)\n",
    "print(f\"Vectorized average time over {repeats} repeats: {vectorized_time/repeats:.6f}\")\n",
    "\n",
    "# Actual statement executed for repeats times\n",
    "for_stmt = \"\"\"\\\n",
    "count = 0\n",
    "for i in range(n):\n",
    "    u = rng_x.uniform(low=0, high=1)\n",
    "    v = rng_y.uniform(low=0, high=1)\n",
    "    if (u * u + v * v) < 1:\n",
    "        count += 1\n",
    "\"\"\"\n",
    "\n",
    "for_time = timeit.Timer(stmt=for_stmt, setup=setup).timeit(number=repeats)\n",
    "print(f\"For-loop average time over {repeats} repeats: {for_time/repeats:.6f}\")\n"
   ]
  },
  {
   "cell_type": "code",
   "execution_count": null,
   "metadata": {},
   "outputs": [],
   "source": []
  }
 ],
 "metadata": {
  "kernelspec": {
   "display_name": "Python 3",
   "language": "python",
   "name": "python3"
  },
  "language_info": {
   "codemirror_mode": {
    "name": "ipython",
    "version": 3
   },
   "file_extension": ".py",
   "mimetype": "text/x-python",
   "name": "python",
   "nbconvert_exporter": "python",
   "pygments_lexer": "ipython3",
   "version": "3.7.3"
  }
 },
 "nbformat": 4,
 "nbformat_minor": 2
}
