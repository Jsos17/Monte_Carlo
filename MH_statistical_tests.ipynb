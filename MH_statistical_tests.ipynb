{
 "cells": [
  {
   "cell_type": "code",
   "execution_count": 1,
   "metadata": {},
   "outputs": [],
   "source": [
    "import numpy as np\n",
    "import matplotlib.pyplot as plt\n",
    "from scipy.stats import multivariate_normal\n",
    "from numpy.random import RandomState\n",
    "from scipy import stats"
   ]
  },
  {
   "cell_type": "code",
   "execution_count": 2,
   "metadata": {},
   "outputs": [],
   "source": [
    "def metropolis_hastings(rng, chain_start, n, logtarget, candidate_generating_density):\n",
    "    x = chain_start\n",
    "    chain = np.zeros(2 * n).reshape(2,n)\n",
    "    accepted = 0\n",
    "    \n",
    "    for i in range(n):\n",
    "        candidate = candidate_generating_density(x)\n",
    "        \n",
    "        if np.log(rng.uniform()) < logtarget(candidate) - logtarget(x):\n",
    "            x = candidate\n",
    "            accepted += 1\n",
    "        \n",
    "        chain[:,i] = x.reshape(2,)\n",
    "        \n",
    "    print(f\"Hyväksyttyjä kandidaatteja: {(accepted/n)*100:.1f} %\")\n",
    "    return chain"
   ]
  },
  {
   "cell_type": "markdown",
   "metadata": {},
   "source": [
    "# Statistical tests for the Metropolis-Hastings algorithm\n",
    "\n",
    "The Metropolis-Hastings algorithm is used to produce a two-dimensional normal distribution, where the components are independent. **Independence of the components follows from the fact that the joint distribution of the components is multivariate normal AND the correlation between the components is zero. In general zero correlation does not imply indepence, but in the case of multinormality it does!**\n",
    "\n",
    "Thus the normality of the components can be tested with one-dimensional normality tests. If the null hypothesis is one-dimensional normality for both components, then both components seem to pass these tests for 5 % or smaller significance values."
   ]
  },
  {
   "cell_type": "code",
   "execution_count": 3,
   "metadata": {},
   "outputs": [
    {
     "name": "stdout",
     "output_type": "stream",
     "text": [
      "Hyväksyttyjä kandidaatteja: 48.2 %\n",
      "(2, 1000)\n",
      "\n",
      "Avg: 1.027390874726488\n",
      "Shapiro p-value: 0.549119234085083\n",
      "AndersonResult(statistic=0.4835167010847954, critical_values=array([0.574, 0.653, 0.784, 0.914, 1.088]), significance_level=array([15. , 10. ,  5. ,  2.5,  1. ]))\n",
      "\n",
      "Avg: 1.9673537686543072\n",
      "Shapiro p-value: 0.08434996753931046\n",
      "AndersonResult(statistic=0.7822309198479616, critical_values=array([0.574, 0.653, 0.784, 0.914, 1.088]), significance_level=array([15. , 10. ,  5. ,  2.5,  1. ]))\n"
     ]
    },
    {
     "data": {
      "image/png": "[encoded data removed]",
      "text/plain": [
       "<Figure size 432x288 with 1 Axes>"
      ]
     },
     "metadata": {
      "needs_background": "light"
     },
     "output_type": "display_data"
    }
   ],
   "source": [
    "rng = RandomState(23)\n",
    "mu = np.array([[1], [2]])\n",
    "sigma = np.array([[1.0, 0.0], [0.0, 1.0]])\n",
    "# print(sigma)\n",
    "sigma_inverse = np.linalg.inv(sigma)\n",
    "\n",
    "# The density function of multivariate normal distribution without the normalizing constant\n",
    "logtarget = lambda x: -0.5 * np.transpose(x - mu) @ sigma_inverse @ (x - mu)\n",
    "# Autoregressive generating density\n",
    "proposal_density = lambda x: mu - (x - mu) + 1.9*rng.uniform(low=-1, high=1, size=2).reshape(2,1)\n",
    "chain = metropolis_hastings(rng, np.array([[1.0], [2.0]]), 20_000, logtarget, proposal_density)\n",
    "without = chain[:, 10_000:]\n",
    "gaps = without[:,::10]\n",
    "print(gaps.shape)\n",
    "\n",
    "print()\n",
    "# print(gaps[0, :])\n",
    "print(f\"Avg: {np.average(gaps[0,:])}\")\n",
    "_, p_value1 = stats.shapiro(gaps[0,:])\n",
    "print(f\"Shapiro p-value: {p_value1}\")\n",
    "print(stats.anderson(gaps[0,:], dist=\"norm\"))\n",
    "\n",
    "print()\n",
    "#print(gaps[1, :])\n",
    "print(f\"Avg: {np.average(gaps[1,:])}\")\n",
    "_, p_value2 = stats.shapiro(gaps[1,:])\n",
    "print(f\"Shapiro p-value: {p_value2}\")\n",
    "print(stats.anderson(gaps[1,:], dist=\"norm\"))\n",
    "\n",
    "plt.scatter(gaps[0], gaps[1], s=1)\n",
    "plt.show()"
   ]
  },
  {
   "cell_type": "code",
   "execution_count": null,
   "metadata": {},
   "outputs": [],
   "source": []
  }
 ],
 "metadata": {
  "kernelspec": {
   "display_name": "Python 3",
   "language": "python",
   "name": "python3"
  },
  "language_info": {
   "codemirror_mode": {
    "name": "ipython",
    "version": 3
   },
   "file_extension": ".py",
   "mimetype": "text/x-python",
   "name": "python",
   "nbconvert_exporter": "python",
   "pygments_lexer": "ipython3",
   "version": "3.7.3"
  }
 },
 "nbformat": 4,
 "nbformat_minor": 2
}
