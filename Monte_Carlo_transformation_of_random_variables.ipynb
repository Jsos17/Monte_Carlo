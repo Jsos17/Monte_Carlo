{
 "cells": [
  {
   "cell_type": "markdown",
   "metadata": {},
   "source": [
    "# A Very Simple Monte Carlo Simulation\n",
    "\n",
    "**Claim**: If $ X $ and $ Y $ are independent random variables with $ X \\sim Exp(1) $ and $ Y \\sim Exp(1) $, then $ \\frac{X}{X+Y} \\sim Uniform(0,1) $.\n",
    "\n",
    "Instead of using a mathematical proof, the claim is examined with a simple Monte Carlo simulation."
   ]
  },
  {
   "cell_type": "code",
   "execution_count": 1,
   "metadata": {},
   "outputs": [],
   "source": [
    "import numpy as np\n",
    "from numpy.random import RandomState, exponential\n",
    "import matplotlib.pyplot as plt\n",
    "import time"
   ]
  },
  {
   "cell_type": "code",
   "execution_count": 2,
   "metadata": {},
   "outputs": [],
   "source": [
    "n = 2_000_000\n",
    "param = 1\n",
    "rng = RandomState(1729)"
   ]
  },
  {
   "cell_type": "markdown",
   "metadata": {},
   "source": [
    "We produce independent $ Exp(1) $ distributed random variables ($ X $ and $ Y $) with the inverse transform method. Then, a histogram of the variables $ \\frac{X}{X+Y} $ is plotted.\n",
    "\n",
    "The density function of $ U \\sim Uniform(0,1) $ is plotted in red. The density of $ U $ is defined simply as $ f_{U}(x) = \\begin{cases} 1, \\quad 0 < x < 1 \\\\ 0, \\quad \\text{otherwise} \\end{cases} $."
   ]
  },
  {
   "cell_type": "code",
   "execution_count": 3,
   "metadata": {},
   "outputs": [
    {
     "data": {
      "image/png": "[encoded data removed]",
      "text/plain": [
       "<Figure size 432x288 with 1 Axes>"
      ]
     },
     "metadata": {
      "needs_background": "light"
     },
     "output_type": "display_data"
    }
   ],
   "source": [
    "X = -(1 / param) * np.log(1 - rng.rand(n))\n",
    "Y = -(1 / param) * np.log(1 - rng.rand(n))\n",
    "U = X / (X + Y)\n",
    "\n",
    "bins = 100\n",
    "plt.hist(U, bins, density=True)\n",
    "x = np.linspace(0, 1, 100)\n",
    "plt.plot(x, np.full(100, 1), linewidth=2, color=\"red\")\n",
    "plt.show()"
   ]
  },
  {
   "cell_type": "markdown",
   "metadata": {},
   "source": [
    "We repeat the experiment by using NumPy's library implementation of exponential distribution."
   ]
  },
  {
   "cell_type": "code",
   "execution_count": 4,
   "metadata": {},
   "outputs": [
    {
     "data": {
      "image/png": "[encoded data removed]",
      "text/plain": [
       "<Figure size 432x288 with 1 Axes>"
      ]
     },
     "metadata": {
      "needs_background": "light"
     },
     "output_type": "display_data"
    }
   ],
   "source": [
    "X = rng.exponential(scale=1, size=n)\n",
    "Y = rng.exponential(scale=1, size=n)\n",
    "U = X / (X + Y)\n",
    "\n",
    "bins = 100\n",
    "plt.hist(U, bins, density=True)\n",
    "plt.plot(x, np.full(100, 1), linewidth=2, color=\"red\")\n",
    "plt.show()"
   ]
  },
  {
   "cell_type": "markdown",
   "metadata": {},
   "source": [
    "The histogram would look even more even if we increased the sample size. In summary, the simulation seems to confirm the claim."
   ]
  }
 ],
 "metadata": {
  "kernelspec": {
   "display_name": "Python 3",
   "language": "python",
   "name": "python3"
  },
  "language_info": {
   "codemirror_mode": {
    "name": "ipython",
    "version": 3
   },
   "file_extension": ".py",
   "mimetype": "text/x-python",
   "name": "python",
   "nbconvert_exporter": "python",
   "pygments_lexer": "ipython3",
   "version": "3.7.3"
  }
 },
 "nbformat": 4,
 "nbformat_minor": 2
}
