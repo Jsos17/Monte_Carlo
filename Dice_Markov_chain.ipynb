{
 "cells": [
  {
   "cell_type": "code",
   "execution_count": 29,
   "metadata": {},
   "outputs": [
    {
     "name": "stdout",
     "output_type": "stream",
     "text": [
      "[[0.16666667 0.16666667 0.16666667 0.16666667 0.16666667 0.16666667]\n",
      " [0.         0.33333333 0.16666667 0.16666667 0.16666667 0.16666667]\n",
      " [0.         0.         0.5        0.16666667 0.16666667 0.16666667]\n",
      " [0.         0.         0.         0.66666667 0.16666667 0.16666667]\n",
      " [0.         0.         0.         0.         0.83333333 0.16666667]\n",
      " [0.         0.         0.         0.         0.         1.        ]]\n"
     ]
    }
   ],
   "source": [
    "import numpy as np\n",
    "\n",
    "def create(n):\n",
    "    lst = []\n",
    "    for i in range(n):\n",
    "        row = np.concatenate((np.zeros(i), np.array([(i+1)/6]), np.full(5-i, 1/6)))\n",
    "        lst.append(row)\n",
    "        \n",
    "    return np.array(lst)\n",
    "\n",
    "P = create(6)\n",
    "print(P)"
   ]
  },
  {
   "cell_type": "code",
   "execution_count": 30,
   "metadata": {},
   "outputs": [
    {
     "name": "stdout",
     "output_type": "stream",
     "text": [
      "[[0.16666667 0.16666667 0.16666667 0.16666667 0.16666667 0.16666667]]\n"
     ]
    }
   ],
   "source": [
    "p0 = np.full((1,6), 1/6)\n",
    "print(p0)"
   ]
  },
  {
   "cell_type": "code",
   "execution_count": 31,
   "metadata": {},
   "outputs": [
    {
     "data": {
      "text/plain": [
       "array([[0.02777778, 0.08333333, 0.13888889, 0.19444444, 0.25      ,\n",
       "        0.30555556]])"
      ]
     },
     "execution_count": 31,
     "metadata": {},
     "output_type": "execute_result"
    }
   ],
   "source": [
    "p0 @ P"
   ]
  },
  {
   "cell_type": "code",
   "execution_count": 32,
   "metadata": {},
   "outputs": [
    {
     "data": {
      "text/plain": [
       "array([[1.28600823e-04, 3.98662551e-03, 2.71347737e-02, 1.00437243e-01,\n",
       "        2.70190329e-01, 5.98122428e-01]])"
      ]
     },
     "execution_count": 32,
     "metadata": {},
     "output_type": "execute_result"
    }
   ],
   "source": [
    "p0 @ P @ P @ P @ P"
   ]
  },
  {
   "cell_type": "code",
   "execution_count": 23,
   "metadata": {},
   "outputs": [
    {
     "name": "stdout",
     "output_type": "stream",
     "text": [
      "[[1 1 1 1 1 1]\n",
      " [0 2 1 1 1 1]\n",
      " [0 0 3 1 1 1]\n",
      " [0 0 0 4 1 1]\n",
      " [0 0 0 0 5 1]\n",
      " [0 0 0 0 0 6]]\n"
     ]
    }
   ],
   "source": [
    "def create_int(n):\n",
    "    lst = []\n",
    "    for i in range(n):\n",
    "        row = np.concatenate((np.zeros(i), np.array([(i+1)]), np.full(5-i, 1)))\n",
    "        lst.append(row)\n",
    "        \n",
    "    return np.array(lst).astype(int)\n",
    "\n",
    "K = create_int(6)\n",
    "print(K)"
   ]
  },
  {
   "cell_type": "code",
   "execution_count": 27,
   "metadata": {},
   "outputs": [
    {
     "data": {
      "text/plain": [
       "array([[  1,   7,  19,  37,  61,  91],\n",
       "       [  0,   8,  19,  37,  61,  91],\n",
       "       [  0,   0,  27,  37,  61,  91],\n",
       "       [  0,   0,   0,  64,  61,  91],\n",
       "       [  0,   0,   0,   0, 125,  91],\n",
       "       [  0,   0,   0,   0,   0, 216]])"
      ]
     },
     "execution_count": 27,
     "metadata": {},
     "output_type": "execute_result"
    }
   ],
   "source": [
    "K @ K @ K"
   ]
  },
  {
   "cell_type": "code",
   "execution_count": null,
   "metadata": {},
   "outputs": [],
   "source": []
  }
 ],
 "metadata": {
  "kernelspec": {
   "display_name": "Python 3",
   "language": "python",
   "name": "python3"
  },
  "language_info": {
   "codemirror_mode": {
    "name": "ipython",
    "version": 3
   },
   "file_extension": ".py",
   "mimetype": "text/x-python",
   "name": "python",
   "nbconvert_exporter": "python",
   "pygments_lexer": "ipython3",
   "version": "3.7.3"
  }
 },
 "nbformat": 4,
 "nbformat_minor": 2
}
