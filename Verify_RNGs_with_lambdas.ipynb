{
 "cells": [
  {
   "cell_type": "markdown",
   "metadata": {},
   "source": [
    "# Testing How Random Number Generators Work With Lambda Functions"
   ]
  },
  {
   "cell_type": "code",
   "execution_count": 1,
   "metadata": {},
   "outputs": [
    {
     "name": "stdout",
     "output_type": "stream",
     "text": [
      "[-0.57568281 -0.48196352 -0.15295624  0.43932203  0.38450185  0.45634963\n",
      " -0.42490025 -0.49183334  0.921858    0.13041322]\n",
      "------------------------------------------------------------------------\n",
      "[-0.57568281 -0.57568281 -0.57568281 -0.57568281 -0.57568281 -0.57568281\n",
      " -0.57568281 -0.57568281 -0.57568281 -0.57568281]\n",
      "------------------------------------------------------------------------\n",
      "[ 0.2892772   0.41512992 -0.88905625 -0.675848    0.43826131 -0.04642664\n",
      " -0.17255855  0.19729901 -0.77366732 -0.64492188]\n"
     ]
    }
   ],
   "source": [
    "import numpy as np\n",
    "from numpy.random import RandomState\n",
    "\n",
    "def rng_lambda(n, candidate_generating_density):\n",
    "    x = 0\n",
    "    chain = np.zeros(n)\n",
    "    for i in range(n):\n",
    "        x = candidate_generating_density(x)\n",
    "        chain[i] = x\n",
    "        \n",
    "    return chain\n",
    "\n",
    "rng = RandomState(1729)\n",
    "proposal = lambda x: rng.uniform(low=-1, high=1)\n",
    "chain = rng_lambda(10, proposal)\n",
    "print(chain)\n",
    "print(\"------------------------------------------------------------------------\")\n",
    "\n",
    "density_generator = lambda x: RandomState(1729).uniform(low=-1, high=1)\n",
    "array = rng_lambda(10, density_generator)\n",
    "print(array)\n",
    "print(\"------------------------------------------------------------------------\")\n",
    "\n",
    "d_generator = lambda x: RandomState().uniform(low=-1, high=1)\n",
    "arr = rng_lambda(10, d_generator)\n",
    "print(arr)\n"
   ]
  },
  {
   "cell_type": "code",
   "execution_count": 2,
   "metadata": {},
   "outputs": [
    {
     "name": "stdout",
     "output_type": "stream",
     "text": [
      "-0.5756828096125337\n",
      "-0.5756828096125337\n",
      "-0.5756828096125337\n"
     ]
    }
   ],
   "source": [
    "print(RandomState(1729).uniform(-1,1))\n",
    "print(RandomState(1729).uniform(-1,1))\n",
    "print(RandomState(1729).uniform(-1,1))"
   ]
  },
  {
   "cell_type": "code",
   "execution_count": 3,
   "metadata": {},
   "outputs": [
    {
     "name": "stdout",
     "output_type": "stream",
     "text": [
      "-0.5756828096125337\n",
      "-0.4819635189444771\n",
      "-0.15295624010794273\n"
     ]
    }
   ],
   "source": [
    "rng2 = RandomState(1729)\n",
    "print(rng2.uniform(-1,1))\n",
    "print(rng2.uniform(-1,1))\n",
    "print(rng2.uniform(-1,1))"
   ]
  }
 ],
 "metadata": {
  "kernelspec": {
   "display_name": "Python 3",
   "language": "python",
   "name": "python3"
  },
  "language_info": {
   "codemirror_mode": {
    "name": "ipython",
    "version": 3
   },
   "file_extension": ".py",
   "mimetype": "text/x-python",
   "name": "python",
   "nbconvert_exporter": "python",
   "pygments_lexer": "ipython3",
   "version": "3.7.3"
  }
 },
 "nbformat": 4,
 "nbformat_minor": 2
}
