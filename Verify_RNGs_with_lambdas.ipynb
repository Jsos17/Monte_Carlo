{
 "cells": [
  {
   "cell_type": "code",
   "execution_count": 1,
   "metadata": {},
   "outputs": [
    {
     "name": "stdout",
     "output_type": "stream",
     "text": [
      "[-0.57568281 -0.48196352 -0.15295624  0.43932203  0.38450185  0.45634963\n",
      " -0.42490025 -0.49183334  0.921858    0.13041322 -0.86610594  0.4667818\n",
      "  0.01957986 -0.5448528  -0.31709783  0.02398635  0.92144571  0.22810885\n",
      "  0.50480119  0.8007916 ]\n",
      "------------------------------------------------------------------------\n",
      "[-0.57568281 -0.57568281 -0.57568281 -0.57568281 -0.57568281 -0.57568281\n",
      " -0.57568281 -0.57568281 -0.57568281 -0.57568281 -0.57568281 -0.57568281\n",
      " -0.57568281 -0.57568281 -0.57568281 -0.57568281 -0.57568281 -0.57568281\n",
      " -0.57568281 -0.57568281]\n",
      "------------------------------------------------------------------------\n",
      "[-0.27913447 -0.95479246  0.43914103 -0.99857287  0.8198942   0.88380799\n",
      "  0.3345743  -0.56712179  0.32838409  0.43213942 -0.18125935  0.72931001\n",
      "  0.62944031  0.77753595 -0.94364799 -0.11807944  0.82316286  0.33359161\n",
      "  0.17691656 -0.21396243]\n"
     ]
    }
   ],
   "source": [
    "import numpy as np\n",
    "from numpy.random import RandomState\n",
    "\n",
    "def rng_lambda(n, candidate_generating_density):\n",
    "    x = 0\n",
    "    chain = np.zeros(n)\n",
    "    for i in range(n):\n",
    "        x = candidate_generating_density(x)\n",
    "        chain[i] = x\n",
    "        \n",
    "    return chain\n",
    "\n",
    "rng = RandomState(1729)\n",
    "proposal = lambda x: rng.uniform(low=-1, high=1)\n",
    "chain = rng_lambda(20, proposal)\n",
    "print(chain)\n",
    "print(\"------------------------------------------------------------------------\")\n",
    "\n",
    "density_generator = lambda x: RandomState(1729).uniform(low=-1, high=1)\n",
    "array = rng_lambda(20, density_generator)\n",
    "print(array)\n",
    "print(\"------------------------------------------------------------------------\")\n",
    "\n",
    "d_generator = lambda x: RandomState().uniform(low=-1, high=1)\n",
    "arr = rng_lambda(20, d_generator)\n",
    "print(arr)\n"
   ]
  },
  {
   "cell_type": "code",
   "execution_count": 2,
   "metadata": {},
   "outputs": [
    {
     "name": "stdout",
     "output_type": "stream",
     "text": [
      "-0.5756828096125337\n",
      "-0.5756828096125337\n",
      "-0.5756828096125337\n"
     ]
    }
   ],
   "source": [
    "print(RandomState(1729).uniform(-1,1))\n",
    "print(RandomState(1729).uniform(-1,1))\n",
    "print(RandomState(1729).uniform(-1,1))"
   ]
  },
  {
   "cell_type": "code",
   "execution_count": 3,
   "metadata": {},
   "outputs": [
    {
     "name": "stdout",
     "output_type": "stream",
     "text": [
      "-0.5756828096125337\n",
      "-0.4819635189444771\n",
      "-0.15295624010794273\n"
     ]
    }
   ],
   "source": [
    "rng2 = RandomState(1729)\n",
    "print(rng2.uniform(-1,1))\n",
    "print(rng2.uniform(-1,1))\n",
    "print(rng2.uniform(-1,1))"
   ]
  }
 ],
 "metadata": {
  "kernelspec": {
   "display_name": "Python 3",
   "language": "python",
   "name": "python3"
  },
  "language_info": {
   "codemirror_mode": {
    "name": "ipython",
    "version": 3
   },
   "file_extension": ".py",
   "mimetype": "text/x-python",
   "name": "python",
   "nbconvert_exporter": "python",
   "pygments_lexer": "ipython3",
   "version": "3.7.3"
  }
 },
 "nbformat": 4,
 "nbformat_minor": 2
}
