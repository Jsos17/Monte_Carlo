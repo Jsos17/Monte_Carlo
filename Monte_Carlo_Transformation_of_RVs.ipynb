{
 "cells": [
  {
   "cell_type": "code",
   "execution_count": 1,
   "metadata": {},
   "outputs": [],
   "source": [
    "import numpy as np\n",
    "from numpy.random import RandomState, exponential\n",
    "import matplotlib.pyplot as plt\n",
    "import time"
   ]
  },
  {
   "cell_type": "code",
   "execution_count": 2,
   "metadata": {},
   "outputs": [
    {
     "data": {
      "image/png": "[encoded data removed]",
      "text/plain": [
       "<Figure size 432x288 with 1 Axes>"
      ]
     },
     "metadata": {
      "needs_background": "light"
     },
     "output_type": "display_data"
    }
   ],
   "source": [
    "n = 10_000_000\n",
    "param = 1\n",
    "rng = RandomState(1729)\n",
    "\n",
    "X = -(1 / param) * np.log(1 - rng.rand(n))\n",
    "Y = -(1 / param) * np.log(1 - rng.rand(n))\n",
    "U = X / (X + Y)\n",
    "\n",
    "bins = 100\n",
    "plt.hist(U, bins, density=True)\n",
    "plt.show()"
   ]
  },
  {
   "cell_type": "code",
   "execution_count": 3,
   "metadata": {},
   "outputs": [
    {
     "name": "stdout",
     "output_type": "stream",
     "text": [
      "9.88 s\n"
     ]
    },
    {
     "data": {
      "image/png": "[encoded data removed]",
      "text/plain": [
       "<Figure size 432x288 with 1 Axes>"
      ]
     },
     "metadata": {
      "needs_background": "light"
     },
     "output_type": "display_data"
    },
    {
     "name": "stdout",
     "output_type": "stream",
     "text": [
      "1.92 s\n"
     ]
    }
   ],
   "source": [
    "n = 100_000_000\n",
    "param = 1\n",
    "rng = RandomState(1729)\n",
    "\n",
    "start = time.time()\n",
    "X = rng.exponential(scale=1, size=n)\n",
    "Y = rng.exponential(scale=1, size=n)\n",
    "U = X / (X + Y)\n",
    "end = time.time()\n",
    "print(f\"{end-start:.2f} s\")\n",
    "\n",
    "st2 = time.time()\n",
    "bins = 100\n",
    "plt.hist(U, bins, density=True)\n",
    "plt.show()\n",
    "end2 = time.time()\n",
    "print(f\"{end2-st2:.2f} s\")\n"
   ]
  },
  {
   "cell_type": "code",
   "execution_count": null,
   "metadata": {},
   "outputs": [],
   "source": []
  }
 ],
 "metadata": {
  "kernelspec": {
   "display_name": "Python 3",
   "language": "python",
   "name": "python3"
  },
  "language_info": {
   "codemirror_mode": {
    "name": "ipython",
    "version": 3
   },
   "file_extension": ".py",
   "mimetype": "text/x-python",
   "name": "python",
   "nbconvert_exporter": "python",
   "pygments_lexer": "ipython3",
   "version": "3.7.3"
  }
 },
 "nbformat": 4,
 "nbformat_minor": 2
}
