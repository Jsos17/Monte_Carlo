{
 "cells": [
  {
   "cell_type": "code",
   "execution_count": 1,
   "metadata": {},
   "outputs": [],
   "source": [
    "import numpy as np\n",
    "from numpy.random import RandomState\n",
    "import matplotlib.pyplot as plt"
   ]
  },
  {
   "cell_type": "code",
   "execution_count": 2,
   "metadata": {},
   "outputs": [],
   "source": [
    "def metropolis_algorithm(uniform_rng, chain_start, n, logtarget, drawproposal):\n",
    "    x = chain_start\n",
    "    chain = np.zeros(n)\n",
    "    accepted = 0\n",
    "    for i in range(n):\n",
    "        candidate = drawproposal(x)\n",
    "        \n",
    "        if np.log(uniform_rng.uniform()) < logtarget(candidate) - logtarget(x):\n",
    "            x = candidate\n",
    "            accepted += 1\n",
    "        \n",
    "        chain[i] = x\n",
    "        \n",
    "    print(f\"Acceptance rate {accepted/n}\")\n",
    "    return chain"
   ]
  },
  {
   "cell_type": "code",
   "execution_count": 3,
   "metadata": {},
   "outputs": [
    {
     "name": "stdout",
     "output_type": "stream",
     "text": [
      "Acceptance rate 0.4703\n"
     ]
    }
   ],
   "source": [
    "uniform_rng = RandomState(1729)\n",
    "proposal_rng = RandomState(2)\n",
    "chain = metropolis_algorithm(uniform_rng, 10, 10000, lambda x: -np.abs(x), lambda x: x + 2.5*proposal_rng.normal())\n"
   ]
  },
  {
   "cell_type": "code",
   "execution_count": 4,
   "metadata": {},
   "outputs": [],
   "source": [
    "chain = chain[chain.size // 2:]"
   ]
  },
  {
   "cell_type": "code",
   "execution_count": 5,
   "metadata": {},
   "outputs": [
    {
     "data": {
      "image/png": "[encoded data removed]",
      "text/plain": [
       "<Figure size 432x288 with 2 Axes>"
      ]
     },
     "metadata": {
      "needs_background": "light"
     },
     "output_type": "display_data"
    }
   ],
   "source": [
    "fig, ax = plt.subplots(1, 2)\n",
    "ax[0].plot(chain)\n",
    "h = ax[1].hist(chain, 50, density=True)\n",
    "plt.show()"
   ]
  },
  {
   "cell_type": "code",
   "execution_count": null,
   "metadata": {},
   "outputs": [],
   "source": []
  }
 ],
 "metadata": {
  "kernelspec": {
   "display_name": "Python 3",
   "language": "python",
   "name": "python3"
  },
  "language_info": {
   "codemirror_mode": {
    "name": "ipython",
    "version": 3
   },
   "file_extension": ".py",
   "mimetype": "text/x-python",
   "name": "python",
   "nbconvert_exporter": "python",
   "pygments_lexer": "ipython3",
   "version": "3.7.3"
  }
 },
 "nbformat": 4,
 "nbformat_minor": 2
}
