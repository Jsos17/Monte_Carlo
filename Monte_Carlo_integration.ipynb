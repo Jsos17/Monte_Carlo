{
 "cells": [
  {
   "cell_type": "code",
   "execution_count": 1,
   "metadata": {},
   "outputs": [],
   "source": [
    "import numpy as np\n",
    "from numpy.random import RandomState\n",
    "import time\n",
    "\n",
    "n = 1_000_000"
   ]
  },
  {
   "cell_type": "markdown",
   "metadata": {},
   "source": [
    "# Vectorised version"
   ]
  },
  {
   "cell_type": "code",
   "execution_count": 2,
   "metadata": {},
   "outputs": [
    {
     "name": "stdout",
     "output_type": "stream",
     "text": [
      "Took 0.056152 seconds\n",
      "Approximate pi: 3.139432\n",
      "NumPy's value for pi: 3.141592653589793\n"
     ]
    }
   ],
   "source": [
    "rng_x = RandomState(1729)\n",
    "rng_y = RandomState(88)\n",
    "\n",
    "start = time.time()\n",
    "x = rng_x.uniform(low=0, high=1, size=n)\n",
    "y = rng_y.uniform(low=0, high=1, size=n)\n",
    "sum_of_squares = x * x + y * y\n",
    "mask = sum_of_squares < 1\n",
    "end = time.time()\n",
    "\n",
    "print(f\"Took {end-start:.6f} seconds\")\n",
    "\n",
    "pi_estimate = (len(sum_of_squares[mask]) / n) * 4\n",
    "print(f\"Approximate pi: {pi_estimate}\")\n",
    "print(f\"NumPy's value for pi: {np.pi}\")"
   ]
  },
  {
   "cell_type": "markdown",
   "metadata": {},
   "source": [
    "# Version using for-loop"
   ]
  },
  {
   "cell_type": "code",
   "execution_count": 3,
   "metadata": {},
   "outputs": [
    {
     "name": "stdout",
     "output_type": "stream",
     "text": [
      "Took 1.404125 seconds\n",
      "Approximate pi: 3.139432\n",
      "NumPy's value for pi: 3.141592653589793\n"
     ]
    }
   ],
   "source": [
    "rando = RandomState(1729)\n",
    "randu = RandomState(88)\n",
    "count = 0\n",
    "\n",
    "beginning = time.time()\n",
    "for i in range(n):\n",
    "    u = rando.uniform()\n",
    "    v = randu.uniform()\n",
    "    if (u * u + v * v) < 1:\n",
    "        count += 1\n",
    "ending = time.time()\n",
    "\n",
    "print(f\"Took {ending-beginning:.6f} seconds\")\n",
    "\n",
    "pi_est = (count / n) * 4\n",
    "print(f\"Approximate pi: {pi_est}\")\n",
    "print(f\"NumPy's value for pi: {np.pi}\")"
   ]
  },
  {
   "cell_type": "code",
   "execution_count": null,
   "metadata": {},
   "outputs": [],
   "source": []
  }
 ],
 "metadata": {
  "kernelspec": {
   "display_name": "Python 3",
   "language": "python",
   "name": "python3"
  },
  "language_info": {
   "codemirror_mode": {
    "name": "ipython",
    "version": 3
   },
   "file_extension": ".py",
   "mimetype": "text/x-python",
   "name": "python",
   "nbconvert_exporter": "python",
   "pygments_lexer": "ipython3",
   "version": "3.7.3"
  }
 },
 "nbformat": 4,
 "nbformat_minor": 2
}
