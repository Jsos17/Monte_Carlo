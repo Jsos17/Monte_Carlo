{
 "cells": [
  {
   "cell_type": "code",
   "execution_count": 2,
   "metadata": {},
   "outputs": [
    {
     "name": "stdout",
     "output_type": "stream",
     "text": [
      "Empirical ratio: 0.3678\n",
      "1/e: 0.3679\n"
     ]
    }
   ],
   "source": [
    "import numpy as np\n",
    "from numpy.random import RandomState\n",
    "\n",
    "rng = RandomState(1729)\n",
    "k = 1_000_000\n",
    "\n",
    "E = rng.exponential(scale=1, size=k)\n",
    "U = rng.uniform(low=0, high=1, size=k)\n",
    "\n",
    "ratio = np.sum(E < U) / k\n",
    "\n",
    "print(f\"Empirical ratio: {ratio:.4f}\")\n",
    "print(f\"1/e: {1/np.e:.4f}\")"
   ]
  },
  {
   "cell_type": "code",
   "execution_count": 7,
   "metadata": {},
   "outputs": [
    {
     "name": "stdout",
     "output_type": "stream",
     "text": [
      "[5029.30450196 4984.84849825 4948.29913631 ... 4969.31030816 5002.11095228\n",
      " 4999.33038133]\n",
      "[ 9927.57978178  9890.26620778 10101.2851499  ... 10088.13841783\n",
      "  9934.10961926 10075.80198006]\n",
      "0.0\n",
      "Empirical ratio: 0.0000\n"
     ]
    }
   ],
   "source": [
    "m = 100_000\n",
    "n = 10_000\n",
    "X = rng.normal(loc=n/2, scale=np.sqrt(n/12), size=m)\n",
    "print(X)\n",
    "Y = rng.normal(loc=n, scale=np.sqrt(n), size=m)\n",
    "print(Y)\n",
    "\n",
    "ratio2 = np.sum(X > Y) / n\n",
    "print(ratio2)\n",
    "print(f\"Empirical ratio: {ratio2:.4f}\")"
   ]
  },
  {
   "cell_type": "code",
   "execution_count": null,
   "metadata": {},
   "outputs": [],
   "source": []
  }
 ],
 "metadata": {
  "kernelspec": {
   "display_name": "Python 3",
   "language": "python",
   "name": "python3"
  },
  "language_info": {
   "codemirror_mode": {
    "name": "ipython",
    "version": 3
   },
   "file_extension": ".py",
   "mimetype": "text/x-python",
   "name": "python",
   "nbconvert_exporter": "python",
   "pygments_lexer": "ipython3",
   "version": "3.7.3"
  }
 },
 "nbformat": 4,
 "nbformat_minor": 2
}
