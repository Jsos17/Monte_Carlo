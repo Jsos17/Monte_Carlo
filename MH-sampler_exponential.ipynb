{
 "cells": [
  {
   "cell_type": "code",
   "execution_count": 1,
   "metadata": {},
   "outputs": [],
   "source": [
    "import numpy as np\n",
    "from numpy.random import RandomState\n",
    "import matplotlib.pyplot as plt\n",
    "from scipy import stats\n",
    "\n",
    "def metropolis_algorithm(uniform_rng, chain_start, n, logtarget, candidate_generating_density):\n",
    "    x = chain_start\n",
    "    chain = np.zeros(n)\n",
    "    accepted = 0\n",
    "    for i in range(n):\n",
    "        candidate = candidate_generating_density(x)\n",
    "        if candidate >= 0:\n",
    "            if np.log(uniform_rng.uniform()) < logtarget(candidate) - logtarget(x):\n",
    "                x = candidate\n",
    "                accepted += 1\n",
    "        \n",
    "        chain[i] = x\n",
    "        \n",
    "    print(f\"Acceptance rate {accepted/n}\")\n",
    "    return chain"
   ]
  },
  {
   "cell_type": "code",
   "execution_count": 2,
   "metadata": {},
   "outputs": [
    {
     "name": "stdout",
     "output_type": "stream",
     "text": [
      "Acceptance rate 0.47244\n"
     ]
    },
    {
     "data": {
      "image/png": "[encoded data removed]",
      "text/plain": [
       "<Figure size 1080x504 with 2 Axes>"
      ]
     },
     "metadata": {
      "needs_background": "light"
     },
     "output_type": "display_data"
    }
   ],
   "source": [
    "uniform_rng = RandomState(1729)\n",
    "proposal_rng = RandomState(2)\n",
    "\n",
    "n = 100000\n",
    "param = 2\n",
    "log_exponential = lambda x: np.log(param) - param * x\n",
    "candidate_generating_density = lambda x: x + 0.60 * proposal_rng.normal()\n",
    "chain = metropolis_algorithm(uniform_rng, (1/param), n, log_exponential, candidate_generating_density)\n",
    "chain_after_burn_in = chain[chain.size // 2:]\n",
    "\n",
    "##########################################################################################\n",
    "uniform_rng_2 = RandomState(88)\n",
    "exponential_rvs = -(1 / param) * np.log(1 - uniform_rng_2.rand(chain_after_burn_in.size))\n",
    "##########################################################################################\n",
    "\n",
    "fig, ax = plt.subplots(1, 2)\n",
    "fig.set_figheight(7)\n",
    "fig.set_figwidth(15)\n",
    "width = 2\n",
    "bins = 100\n",
    "x = np.arange(0, max(chain_after_burn_in) + 0.5, 0.1)\n",
    "\n",
    "ax[0].hist(chain_after_burn_in, bins, density=True)\n",
    "ax[0].plot(x, param * np.exp(-param * x), linewidth=width, color=\"red\")\n",
    "ax[0].set_title(\"Metropolis-Hastings\")\n",
    "\n",
    "ax[1].hist(exponential_rvs, bins, density=True)\n",
    "ax[1].plot(x, param * np.exp(-param * x), linewidth=width, color=\"red\")\n",
    "ax[1].set_title(\"Inverse transform\")\n",
    "\n",
    "plt.show()"
   ]
  },
  {
   "cell_type": "code",
   "execution_count": 3,
   "metadata": {},
   "outputs": [
    {
     "name": "stdout",
     "output_type": "stream",
     "text": [
      "AndersonResult(statistic=1.302563736542652, critical_values=array([0.922, 1.078, 1.341, 1.606, 1.957]), significance_level=array([15. , 10. ,  5. ,  2.5,  1. ]))\n",
      "--------------------------------------------------\n",
      "AndersonResult(statistic=0.5178271921322448, critical_values=array([0.922, 1.078, 1.341, 1.606, 1.957]), significance_level=array([15. , 10. ,  5. ,  2.5,  1. ]))\n"
     ]
    }
   ],
   "source": [
    "print(stats.anderson(chain_after_burn_in, dist=\"expon\"))\n",
    "print(\"--------------------------------------------------\")\n",
    "print(stats.anderson(exponential_rvs, dist=\"expon\"))"
   ]
  },
  {
   "cell_type": "code",
   "execution_count": 4,
   "metadata": {},
   "outputs": [
    {
     "name": "stderr",
     "output_type": "stream",
     "text": [
      "/home/jpssilve/anaconda3/lib/python3.7/site-packages/ipykernel_launcher.py:1: RuntimeWarning: divide by zero encountered in log\n",
      "  \"\"\"Entry point for launching an IPython kernel.\n"
     ]
    },
    {
     "data": {
      "text/plain": [
       "True"
      ]
     },
     "execution_count": 4,
     "metadata": {},
     "output_type": "execute_result"
    }
   ],
   "source": [
    "np.log(0) < np.log(0.2)"
   ]
  },
  {
   "cell_type": "code",
   "execution_count": null,
   "metadata": {},
   "outputs": [],
   "source": []
  }
 ],
 "metadata": {
  "kernelspec": {
   "display_name": "Python 3",
   "language": "python",
   "name": "python3"
  },
  "language_info": {
   "codemirror_mode": {
    "name": "ipython",
    "version": 3
   },
   "file_extension": ".py",
   "mimetype": "text/x-python",
   "name": "python",
   "nbconvert_exporter": "python",
   "pygments_lexer": "ipython3",
   "version": "3.7.3"
  }
 },
 "nbformat": 4,
 "nbformat_minor": 2
}
